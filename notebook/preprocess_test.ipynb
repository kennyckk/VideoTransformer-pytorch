{
 "cells": [
  {
   "cell_type": "code",
   "execution_count": 1,
   "id": "e10265bc",
   "metadata": {
    "scrolled": true
   },
   "outputs": [
    {
     "name": "stdout",
     "output_type": "stream",
     "text": [
      "C:\\Users\\kenny\\Desktop\\Poly\\22_23_sem2\\project\\proposed\\vivit_testing\\VideoTransformer-pytorch\n"
     ]
    }
   ],
   "source": [
    "%cd .."
   ]
  },
  {
   "cell_type": "code",
   "execution_count": null,
   "id": "7cac2ffb",
   "metadata": {
    "scrolled": true
   },
   "outputs": [],
   "source": [
    "# to unit test the modified load_annotations_dog \n",
    "from dataset import load_annotations_dog\n",
    "\n",
    "dataset=load_annotations_dog('./data/examples.csv',2,60)\n",
    "display(dataset)"
   ]
  },
  {
   "cell_type": "code",
   "execution_count": null,
   "id": "6f7b55d5",
   "metadata": {},
   "outputs": [],
   "source": [
    "# to unit test the modified DogDataset Dataset Class\n",
    "from dataset import DogDataset\n",
    "import data_transform as T\n",
    "from utils import show_processed_image\n",
    "\n",
    "train_temporal_sample = T.TemporalRandomCrop(\n",
    "    16 * 16)\n",
    "\n",
    "train_transform = T.create_video_transform(\n",
    "\t\t\tobjective=\"supervised\",\n",
    "\t\t\tinput_size=224,\n",
    "\t\t\tis_training=False,\n",
    "\t\t\tscale=None,\n",
    "\t\t\thflip=0.5,\n",
    "\t\t\tcolor_jitter=0.4,\n",
    "\t\t\tauto_augment=None,\n",
    "\t\t\tinterpolation='bicubic',\n",
    "\t\t\tmean=(0.5, 0.5, 0.5),\n",
    "\t\t\tstd=(0.5, 0.5, 0.5))\n",
    "\n",
    "class configs:\n",
    "    num_class=2\n",
    "    num_samples_per_cls=60\n",
    "    num_frames=16\n",
    "    \n",
    "configs= configs()\n",
    "\n",
    "\n",
    "dataset= DogDataset(configs,'./data/examples.csv',transform=train_transform,\n",
    "                 temporal_sample=train_temporal_sample)\n",
    "\n",
    "# to sample check on one processed results\n",
    "vid=next(iter(dataset))[0]\n",
    "show_processed_image(vid.permute(0,2,3,1), './',mean=(0.45, 0.45, 0.45),std=(0.225, 0.225, 0.225))"
   ]
  },
  {
   "cell_type": "code",
   "execution_count": 6,
   "id": "1067b057",
   "metadata": {},
   "outputs": [],
   "source": [
    "# to unit test if the DogDataModule can be initiated\n",
    "from data_trainer import DogDataModule\n",
    "\n",
    "class configs:\n",
    "    data_statics='kinetics'\n",
    "    num_class=2\n",
    "    num_samples_per_cls=60\n",
    "    num_frames=16\n",
    "    objective='supervised'\n",
    "    img_size=224\n",
    "    auto_augment=None\n",
    "    frame_interval=16\n",
    "    batch_size=8\n",
    "    num_workers=4\n",
    "    \n",
    "    \n",
    "configs= configs()\n",
    "\n",
    "\n",
    "data_module= DogDataModule(configs, './data/train.csv','./data/eval.csv')\n",
    "data_module.setup(0)"
   ]
  },
  {
   "cell_type": "code",
   "execution_count": null,
   "id": "c198c8e1",
   "metadata": {},
   "outputs": [],
   "source": []
  }
 ],
 "metadata": {
  "kernelspec": {
   "display_name": "vivit2",
   "language": "python",
   "name": "vivit2"
  },
  "language_info": {
   "codemirror_mode": {
    "name": "ipython",
    "version": 3
   },
   "file_extension": ".py",
   "mimetype": "text/x-python",
   "name": "python",
   "nbconvert_exporter": "python",
   "pygments_lexer": "ipython3",
   "version": "3.9.0"
  }
 },
 "nbformat": 4,
 "nbformat_minor": 5
}
