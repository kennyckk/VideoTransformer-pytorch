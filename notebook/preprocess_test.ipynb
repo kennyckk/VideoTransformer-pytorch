{
 "cells": [
  {
   "cell_type": "code",
   "execution_count": null,
   "id": "e10265bc",
   "metadata": {
    "scrolled": true
   },
   "outputs": [],
   "source": [
    "%cd .."
   ]
  },
  {
   "cell_type": "code",
   "execution_count": null,
   "id": "a21b0703",
   "metadata": {
    "scrolled": true
   },
   "outputs": [],
   "source": [
    "from dataset import load_annotations_dog\n",
    "\n",
    "dataset=load_annotations_dog('./data/metadata.csv',2,60)\n",
    "display(dataset)"
   ]
  },
  {
   "cell_type": "code",
   "execution_count": null,
   "id": "ce479dbd",
   "metadata": {},
   "outputs": [],
   "source": []
  }
 ],
 "metadata": {
  "kernelspec": {
   "display_name": "vivit2",
   "language": "python",
   "name": "vivit2"
  },
  "language_info": {
   "codemirror_mode": {
    "name": "ipython",
    "version": 3
   },
   "file_extension": ".py",
   "mimetype": "text/x-python",
   "name": "python",
   "nbconvert_exporter": "python",
   "pygments_lexer": "ipython3",
   "version": "3.9.0"
  }
 },
 "nbformat": 4,
 "nbformat_minor": 5
}
